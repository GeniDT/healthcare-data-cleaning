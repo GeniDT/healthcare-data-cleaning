{
 "cells": [
  {
   "cell_type": "code",
   "execution_count": 1,
   "id": "bdd6d142-2a7a-466f-be82-2d48070b226f",
   "metadata": {},
   "outputs": [],
   "source": [
    "# load messy csv dataset\n",
    "\n",
    "import pandas as pd\n",
    "df_healthcare_raw = pd.read_csv(\"C:/Users/j/OneDrive/Desktop/Projects - Data Science/Data Cleaning/Healthcare Data Cleaning/raw_healthcare_data.csv\")"
   ]
  },
  {
   "cell_type": "code",
   "execution_count": 2,
   "id": "2dfa604d-d10c-47d6-8854-12dd0ee3688b",
   "metadata": {},
   "outputs": [
    {
     "data": {
      "text/html": [
       "<div>\n",
       "<style scoped>\n",
       "    .dataframe tbody tr th:only-of-type {\n",
       "        vertical-align: middle;\n",
       "    }\n",
       "\n",
       "    .dataframe tbody tr th {\n",
       "        vertical-align: top;\n",
       "    }\n",
       "\n",
       "    .dataframe thead th {\n",
       "        text-align: right;\n",
       "    }\n",
       "</style>\n",
       "<table border=\"1\" class=\"dataframe\">\n",
       "  <thead>\n",
       "    <tr style=\"text-align: right;\">\n",
       "      <th></th>\n",
       "      <th>Patient Name</th>\n",
       "      <th>Age</th>\n",
       "      <th>Gender</th>\n",
       "      <th>Condition</th>\n",
       "      <th>Medication</th>\n",
       "      <th>Visit Date</th>\n",
       "      <th>Blood Pressure</th>\n",
       "      <th>Cholesterol</th>\n",
       "      <th>Email</th>\n",
       "      <th>Phone Number</th>\n",
       "    </tr>\n",
       "  </thead>\n",
       "  <tbody>\n",
       "    <tr>\n",
       "      <th>0</th>\n",
       "      <td>david lee</td>\n",
       "      <td>25</td>\n",
       "      <td>Other</td>\n",
       "      <td>Heart Disease</td>\n",
       "      <td>METFORMIN</td>\n",
       "      <td>01/15/2020</td>\n",
       "      <td>140/90</td>\n",
       "      <td>200.0</td>\n",
       "      <td>name@hospital.org</td>\n",
       "      <td>555-555-5555</td>\n",
       "    </tr>\n",
       "    <tr>\n",
       "      <th>1</th>\n",
       "      <td>emily davis</td>\n",
       "      <td>NaN</td>\n",
       "      <td>Male</td>\n",
       "      <td>Diabetes</td>\n",
       "      <td>NONE</td>\n",
       "      <td>April 5, 2018</td>\n",
       "      <td>120/80</td>\n",
       "      <td>200.0</td>\n",
       "      <td>NaN</td>\n",
       "      <td>NaN</td>\n",
       "    </tr>\n",
       "    <tr>\n",
       "      <th>2</th>\n",
       "      <td>laura martinez</td>\n",
       "      <td>35</td>\n",
       "      <td>Other</td>\n",
       "      <td>Asthma</td>\n",
       "      <td>METFORMIN</td>\n",
       "      <td>2019.12.01</td>\n",
       "      <td>110/70</td>\n",
       "      <td>160.0</td>\n",
       "      <td>contact@domain.com</td>\n",
       "      <td>NaN</td>\n",
       "    </tr>\n",
       "    <tr>\n",
       "      <th>3</th>\n",
       "      <td>michael wilson</td>\n",
       "      <td>NaN</td>\n",
       "      <td>Male</td>\n",
       "      <td>Diabetes</td>\n",
       "      <td>ALBUTEROL</td>\n",
       "      <td>01/15/2020</td>\n",
       "      <td>110/70</td>\n",
       "      <td>NaN</td>\n",
       "      <td>name@hospital.org</td>\n",
       "      <td>555-555-5555</td>\n",
       "    </tr>\n",
       "    <tr>\n",
       "      <th>4</th>\n",
       "      <td>david lee</td>\n",
       "      <td>NaN</td>\n",
       "      <td>Female</td>\n",
       "      <td>Asthma</td>\n",
       "      <td>NONE</td>\n",
       "      <td>2020/02/20</td>\n",
       "      <td>110/70</td>\n",
       "      <td>180.0</td>\n",
       "      <td>NaN</td>\n",
       "      <td></td>\n",
       "    </tr>\n",
       "  </tbody>\n",
       "</table>\n",
       "</div>"
      ],
      "text/plain": [
       "       Patient Name  Age  Gender      Condition Medication     Visit Date  \\\n",
       "0        david lee    25   Other  Heart Disease  METFORMIN     01/15/2020   \n",
       "1      emily davis   NaN    Male       Diabetes       NONE  April 5, 2018   \n",
       "2   laura martinez    35   Other         Asthma  METFORMIN     2019.12.01   \n",
       "3   michael wilson   NaN    Male       Diabetes  ALBUTEROL     01/15/2020   \n",
       "4        david lee   NaN  Female         Asthma       NONE     2020/02/20   \n",
       "\n",
       "  Blood Pressure  Cholesterol               Email  Phone Number  \n",
       "0         140/90        200.0   name@hospital.org  555-555-5555  \n",
       "1         120/80        200.0                 NaN           NaN  \n",
       "2         110/70        160.0  contact@domain.com           NaN  \n",
       "3         110/70          NaN   name@hospital.org  555-555-5555  \n",
       "4         110/70        180.0                 NaN                "
      ]
     },
     "execution_count": 2,
     "metadata": {},
     "output_type": "execute_result"
    }
   ],
   "source": [
    "df_healthcare_raw.head()"
   ]
  },
  {
   "cell_type": "code",
   "execution_count": 3,
   "id": "a05183ed-ee9c-434c-bd3f-ff7052a6e53e",
   "metadata": {},
   "outputs": [],
   "source": [
    "# strip trailing spaces from all string columns\n",
    "for column in df_healthcare_raw.select_dtypes(include=['object']).columns:\n",
    "    df_healthcare_raw[column] = df_healthcare_raw[column].str.strip()"
   ]
  },
  {
   "cell_type": "code",
   "execution_count": 4,
   "id": "fb42968f-dff0-4555-8c58-00a5734e93a1",
   "metadata": {},
   "outputs": [
    {
     "name": "stderr",
     "output_type": "stream",
     "text": [
      "C:\\Users\\j\\AppData\\Local\\Temp\\ipykernel_2660\\2780004291.py:14: FutureWarning: A value is trying to be set on a copy of a DataFrame or Series through chained assignment using an inplace method.\n",
      "The behavior will change in pandas 3.0. This inplace method will never work because the intermediate object on which we are setting values always behaves as a copy.\n",
      "\n",
      "For example, when doing 'df[col].method(value, inplace=True)', try using 'df.method({col: value}, inplace=True)' or df[col] = df[col].method(value) instead, to perform the operation inplace on the original object.\n",
      "\n",
      "\n",
      "  df_healthcare_raw['Age'].fillna(median_age, inplace=True)\n"
     ]
    },
    {
     "data": {
      "text/plain": [
       "0    25\n",
       "1    40\n",
       "2    35\n",
       "3    40\n",
       "4    40\n",
       "Name: Age, dtype: int32"
      ]
     },
     "execution_count": 4,
     "metadata": {},
     "output_type": "execute_result"
    }
   ],
   "source": [
    "# correct non-numeric and missing numeric values in columns (age)\n",
    "\n",
    "import numpy as np\n",
    "# replacing non-numeric values with exact numeric values\n",
    "df_healthcare_raw['Age'] = df_healthcare_raw['Age'].replace({\n",
    "    'forty': 40\n",
    "})\n",
    "\n",
    "# convert Age column to numeric values, forcing errors to NaN\n",
    "df_healthcare_raw['Age'] = pd.to_numeric(df_healthcare_raw['Age'], errors='coerce')\n",
    "\n",
    "# fill missing or NaN values with the median age\n",
    "median_age = df_healthcare_raw['Age'].median()\n",
    "df_healthcare_raw['Age'].fillna(median_age, inplace=True)\n",
    "\n",
    "df_healthcare_raw['Age'] = df_healthcare_raw['Age'].astype(int)\n",
    "\n",
    "df_healthcare_raw['Age'].head()"
   ]
  },
  {
   "cell_type": "code",
   "execution_count": 5,
   "id": "f5d759eb-cf78-48e3-9b0b-a4ce9dc21411",
   "metadata": {
    "scrolled": true
   },
   "outputs": [
    {
     "name": "stdout",
     "output_type": "stream",
     "text": [
      "Overall Mean Age: 44.85\n",
      "Overall Median Age: 40.0\n"
     ]
    }
   ],
   "source": [
    "# comparing mean and median ages to understand the best fit for use.\n",
    "\n",
    "overall_mean = df_healthcare_raw['Age'].mean()\n",
    "overall_median = df_healthcare_raw['Age'].median()\n",
    "print(f'Overall Mean Age: {overall_mean}')\n",
    "print(f'Overall Median Age: {overall_median}')"
   ]
  },
  {
   "cell_type": "code",
   "execution_count": 6,
   "id": "a8ad277a-92ef-4f5e-9634-165202cb6713",
   "metadata": {},
   "outputs": [
    {
     "name": "stderr",
     "output_type": "stream",
     "text": [
      "C:\\Users\\j\\AppData\\Local\\Temp\\ipykernel_2660\\451379160.py:7: FutureWarning: A value is trying to be set on a copy of a DataFrame or Series through chained assignment using an inplace method.\n",
      "The behavior will change in pandas 3.0. This inplace method will never work because the intermediate object on which we are setting values always behaves as a copy.\n",
      "\n",
      "For example, when doing 'df[col].method(value, inplace=True)', try using 'df.method({col: value}, inplace=True)' or df[col] = df[col].method(value) instead, to perform the operation inplace on the original object.\n",
      "\n",
      "\n",
      "  df_healthcare_raw['Cholesterol'].fillna(median_Cholesterol, inplace=True)\n"
     ]
    },
    {
     "data": {
      "text/plain": [
       "0    200\n",
       "1    200\n",
       "2    160\n",
       "3    180\n",
       "4    180\n",
       "Name: Cholesterol, dtype: int32"
      ]
     },
     "execution_count": 6,
     "metadata": {},
     "output_type": "execute_result"
    }
   ],
   "source": [
    "# correct non-numeric values in laboratory readings\n",
    "# correct non-numeric values in cholesterol column\n",
    "df_healthcare_raw['Cholesterol'] = pd.to_numeric(df_healthcare_raw['Cholesterol'], errors='coerce')\n",
    "\n",
    "# fill NaN values with the median cholesterol\n",
    "median_Cholesterol = df_healthcare_raw['Cholesterol'].median()\n",
    "df_healthcare_raw['Cholesterol'].fillna(median_Cholesterol, inplace=True)\n",
    "\n",
    "df_healthcare_raw['Cholesterol'] = df_healthcare_raw['Cholesterol'].astype(int)\n",
    "\n",
    "df_healthcare_raw['Cholesterol'].head()"
   ]
  },
  {
   "cell_type": "code",
   "execution_count": 7,
   "id": "e7c4b318-a13a-4bb7-9fcd-5e404067c527",
   "metadata": {},
   "outputs": [
    {
     "name": "stdout",
     "output_type": "stream",
     "text": [
      "Median Systolic Blood Pressure: 130.0\n"
     ]
    },
    {
     "name": "stderr",
     "output_type": "stream",
     "text": [
      "C:\\Users\\j\\AppData\\Local\\Temp\\ipykernel_2660\\2011852235.py:10: FutureWarning: A value is trying to be set on a copy of a DataFrame or Series through chained assignment using an inplace method.\n",
      "The behavior will change in pandas 3.0. This inplace method will never work because the intermediate object on which we are setting values always behaves as a copy.\n",
      "\n",
      "For example, when doing 'df[col].method(value, inplace=True)', try using 'df.method({col: value}, inplace=True)' or df[col] = df[col].method(value) instead, to perform the operation inplace on the original object.\n",
      "\n",
      "\n",
      "  df_healthcare_raw['Systolic_BP'].fillna(median_systolic_bp, inplace=True)\n"
     ]
    }
   ],
   "source": [
    "# correct non-numeric values in blood pressure column\n",
    "# Extract the systolic part of the Blood Pressure column\n",
    "df_healthcare_raw['Systolic_BP'] = df_healthcare_raw['Blood Pressure'].str.split('/').str[0].astype(float)\n",
    "\n",
    "# Calculate the median of the Systolic Blood Pressure\n",
    "median_systolic_bp = df_healthcare_raw['Systolic_BP'].median()\n",
    "print(\"Median Systolic Blood Pressure:\", median_systolic_bp)\n",
    "\n",
    "# Fill NaN values in the Blood Pressure column with the median systolic BP as a placeholder\n",
    "df_healthcare_raw['Systolic_BP'].fillna(median_systolic_bp, inplace=True)"
   ]
  },
  {
   "cell_type": "code",
   "execution_count": 8,
   "id": "8e618287-6285-4510-a6da-c0dafeaf450c",
   "metadata": {},
   "outputs": [
    {
     "name": "stderr",
     "output_type": "stream",
     "text": [
      "C:\\Users\\j\\AppData\\Local\\Temp\\ipykernel_2660\\2150376930.py:11: FutureWarning: A value is trying to be set on a copy of a DataFrame or Series through chained assignment using an inplace method.\n",
      "The behavior will change in pandas 3.0. This inplace method will never work because the intermediate object on which we are setting values always behaves as a copy.\n",
      "\n",
      "For example, when doing 'df[col].method(value, inplace=True)', try using 'df.method({col: value}, inplace=True)' or df[col] = df[col].method(value) instead, to perform the operation inplace on the original object.\n",
      "\n",
      "\n",
      "  df_healthcare_raw['Systolic'].fillna(median_systolic, inplace=True)\n",
      "C:\\Users\\j\\AppData\\Local\\Temp\\ipykernel_2660\\2150376930.py:12: FutureWarning: A value is trying to be set on a copy of a DataFrame or Series through chained assignment using an inplace method.\n",
      "The behavior will change in pandas 3.0. This inplace method will never work because the intermediate object on which we are setting values always behaves as a copy.\n",
      "\n",
      "For example, when doing 'df[col].method(value, inplace=True)', try using 'df.method({col: value}, inplace=True)' or df[col] = df[col].method(value) instead, to perform the operation inplace on the original object.\n",
      "\n",
      "\n",
      "  df_healthcare_raw['Diastolic'].fillna(median_diastolic, inplace=True)\n"
     ]
    }
   ],
   "source": [
    "# Split the 'Blood Pressure' column into 'Systolic' and 'Diastolic' columns\n",
    "df_healthcare_raw[['Systolic', 'Diastolic']] = df_healthcare_raw['Blood Pressure'].str.split('/', expand=True)\n",
    "\n",
    "# Convert the new 'Systolic' and 'Diastolic' columns to numeric, handling non-numeric values as NaN\n",
    "df_healthcare_raw['Systolic'] = pd.to_numeric(df_healthcare_raw['Systolic'], errors='coerce')\n",
    "df_healthcare_raw['Diastolic'] = pd.to_numeric(df_healthcare_raw['Diastolic'], errors='coerce')\n",
    "\n",
    "# Fill missing values\n",
    "median_systolic = df_healthcare_raw['Systolic'].median()\n",
    "median_diastolic = df_healthcare_raw['Diastolic'].median()\n",
    "df_healthcare_raw['Systolic'].fillna(median_systolic, inplace=True)\n",
    "df_healthcare_raw['Diastolic'].fillna(median_diastolic, inplace=True)\n",
    "\n",
    "# Recreate the 'Blood Pressure' column\n",
    "df_healthcare_raw['Blood Pressure'] = df_healthcare_raw['Systolic'].astype(int).astype(str) + '/' + df_healthcare_raw['Diastolic'].astype(int).astype(str)"
   ]
  },
  {
   "cell_type": "code",
   "execution_count": 9,
   "id": "d244206c-20e9-4bec-8696-4a25c86adfa3",
   "metadata": {},
   "outputs": [
    {
     "name": "stdout",
     "output_type": "stream",
     "text": [
      "   Systolic  Diastolic Blood Pressure\n",
      "0     140.0       90.0         140/90\n",
      "1     120.0       80.0         120/80\n",
      "2     110.0       70.0         110/70\n",
      "3     110.0       70.0         110/70\n",
      "4     110.0       70.0         110/70\n",
      "5     140.0       90.0         140/90\n",
      "6     120.0       80.0         120/80\n",
      "7     130.0       85.0         130/85\n",
      "8     140.0       90.0         140/90\n",
      "9     140.0       90.0         140/90\n"
     ]
    }
   ],
   "source": [
    "print(df_healthcare_raw[['Systolic', 'Diastolic', 'Blood Pressure']].head(10))"
   ]
  },
  {
   "cell_type": "code",
   "execution_count": 10,
   "id": "850d325b-e90a-4272-9302-3701e6debfb6",
   "metadata": {},
   "outputs": [
    {
     "name": "stdout",
     "output_type": "stream",
     "text": [
      "['01/15/2020' 'April 5, 2018' '2019.12.01' '2020/02/20' '03-25-2019']\n"
     ]
    }
   ],
   "source": [
    "# view the various date types in dataset\n",
    "\n",
    "print(df_healthcare_raw['Visit Date'].unique())"
   ]
  },
  {
   "cell_type": "code",
   "execution_count": 11,
   "id": "a79639c5-cf04-4761-9e1e-ec1f1282e3b5",
   "metadata": {},
   "outputs": [
    {
     "name": "stdout",
     "output_type": "stream",
     "text": [
      "       Patient Name  Age  Gender      Condition    Medication  Visit Date  \\\n",
      "0         david lee   25   Other  Heart Disease     METFORMIN  2020-01-15   \n",
      "1       emily davis   40    Male       Diabetes          NONE  2018-04-05   \n",
      "2    laura martinez   35   Other         Asthma     METFORMIN  2019-12-01   \n",
      "3    michael wilson   40    Male       Diabetes     ALBUTEROL  2020-01-15   \n",
      "4         david lee   40  Female         Asthma          NONE  2020-02-20   \n",
      "..              ...  ...     ...            ...           ...         ...   \n",
      "995      mary clark   70   Other         Asthma     ALBUTEROL  2019-03-25   \n",
      "996      mary clark   40   Other            NaN    LISINOPRIL  2020-01-15   \n",
      "997  laura martinez   40   Other            NaN     ALBUTEROL  2020-02-20   \n",
      "998      jane smith   25    Male            NaN     ALBUTEROL  2018-04-05   \n",
      "999    james taylor   40    Male       Diabetes  ATORVASTATIN  2020-02-20   \n",
      "\n",
      "    Blood Pressure  Cholesterol               Email  Phone Number  \\\n",
      "0           140/90          200   name@hospital.org  555-555-5555   \n",
      "1           120/80          200                 NaN           NaN   \n",
      "2           110/70          160  contact@domain.com           NaN   \n",
      "3           110/70          180   name@hospital.org  555-555-5555   \n",
      "4           110/70          180                 NaN                 \n",
      "..             ...          ...                 ...           ...   \n",
      "995         110/70          180   name@hospital.org           NaN   \n",
      "996         130/85          160                 NaN  123-456-7890   \n",
      "997         110/70          180   name@hospital.org           NaN   \n",
      "998         110/70          200                 NaN                 \n",
      "999         120/80          220                 NaN  123-456-7890   \n",
      "\n",
      "     Systolic_BP  Systolic  Diastolic  \n",
      "0          140.0     140.0       90.0  \n",
      "1          120.0     120.0       80.0  \n",
      "2          110.0     110.0       70.0  \n",
      "3          110.0     110.0       70.0  \n",
      "4          110.0     110.0       70.0  \n",
      "..           ...       ...        ...  \n",
      "995        110.0     110.0       70.0  \n",
      "996        130.0     130.0       85.0  \n",
      "997        110.0     110.0       70.0  \n",
      "998        110.0     110.0       70.0  \n",
      "999        120.0     120.0       80.0  \n",
      "\n",
      "[1000 rows x 13 columns]\n"
     ]
    }
   ],
   "source": [
    "# Function to standardize dates into a consistent `YYYY-MM-DD` format\n",
    "def standardize_date(date):\n",
    "    formats = ['%m/%d/%Y', '%B %d, %Y', '%Y.%m.%d', '%Y/%m/%d', '%m-%d-%Y']\n",
    "    for fmt in formats:\n",
    "        try:\n",
    "            return pd.to_datetime(date, format=fmt)\n",
    "        except ValueError:\n",
    "            continue\n",
    "    return pd.NaT  # If all formats fail, return NaT\n",
    "\n",
    "# Apply the function to the column\n",
    "df_healthcare_raw['Visit Date'] = df_healthcare_raw['Visit Date'].apply(standardize_date)\n",
    "\n",
    "# Format all valid dates to 'YYYY-MM-DD'\n",
    "df_healthcare_raw['Visit Date'] = df_healthcare_raw['Visit Date'].dt.strftime('%Y-%m-%d')\n",
    "\n",
    "# View the result\n",
    "print(df_healthcare_raw)\n"
   ]
  },
  {
   "cell_type": "code",
   "execution_count": 12,
   "id": "d7c0090e-50f4-4643-a8d6-e83326d4c552",
   "metadata": {},
   "outputs": [
    {
     "name": "stdout",
     "output_type": "stream",
     "text": [
      "['Heart Disease' 'Diabetes' 'Asthma' 'Hypertension' nan]\n"
     ]
    }
   ],
   "source": [
    "# view distinct conditions in dataset\n",
    "\n",
    "print(df_healthcare_raw['Condition'].unique())"
   ]
  },
  {
   "cell_type": "code",
   "execution_count": 13,
   "id": "6366f3ea-16da-4c85-8713-18d8984dc0ed",
   "metadata": {},
   "outputs": [
    {
     "name": "stdout",
     "output_type": "stream",
     "text": [
      "['METFORMIN' 'NONE' 'ALBUTEROL' 'LISINOPRIL' 'ATORVASTATIN']\n"
     ]
    }
   ],
   "source": [
    "# view distinct medications in dataset\n",
    "\n",
    "print(df_healthcare_raw['Medication'].unique())"
   ]
  },
  {
   "cell_type": "code",
   "execution_count": 14,
   "id": "db55520d-d30a-4581-beef-52dfea61c4e0",
   "metadata": {},
   "outputs": [],
   "source": [
    "# Define correct condition-to-medication mapping\n",
    "correct_mapping = {\n",
    "    'Diabetes': 'METFORMIN',\n",
    "    'Heart Disease': 'ATORVASTATIN',\n",
    "    'Hypertension': 'LISINOPRIL',\n",
    "    'Asthma': 'ALBUTEROL',\n",
    "    None: 'NONE'  # For 'nan' or None condition, set medication to 'NONE'\n",
    "}"
   ]
  },
  {
   "cell_type": "code",
   "execution_count": 15,
   "id": "01899cd6-6d2f-4441-b499-a51c5d9445d0",
   "metadata": {},
   "outputs": [],
   "source": [
    "# Function to clean and validate medication based on condition\n",
    "def clean_medication(row):\n",
    "    condition = row['Condition']\n",
    "    # Check if the medication matches the correct mapping for the condition\n",
    "    if row['Medication'] != correct_mapping.get(condition, None):\n",
    "        return correct_mapping.get(condition, 'NONE')  # If mismatch, replace with the correct medication\n",
    "    return row['Medication']  # If it's correct, keep the same"
   ]
  },
  {
   "cell_type": "code",
   "execution_count": 16,
   "id": "a38b7274-4491-46d5-8d92-95e402108c8d",
   "metadata": {},
   "outputs": [
    {
     "name": "stdout",
     "output_type": "stream",
     "text": [
      "       Patient Name  Age  Gender      Condition    Medication  Visit Date  \\\n",
      "0         david lee   25   Other  Heart Disease  ATORVASTATIN  2020-01-15   \n",
      "1       emily davis   40    Male       Diabetes     METFORMIN  2018-04-05   \n",
      "2    laura martinez   35   Other         Asthma     ALBUTEROL  2019-12-01   \n",
      "3    michael wilson   40    Male       Diabetes     METFORMIN  2020-01-15   \n",
      "4         david lee   40  Female         Asthma     ALBUTEROL  2020-02-20   \n",
      "..              ...  ...     ...            ...           ...         ...   \n",
      "995      mary clark   70   Other         Asthma     ALBUTEROL  2019-03-25   \n",
      "996      mary clark   40   Other            NaN          NONE  2020-01-15   \n",
      "997  laura martinez   40   Other            NaN          NONE  2020-02-20   \n",
      "998      jane smith   25    Male            NaN          NONE  2018-04-05   \n",
      "999    james taylor   40    Male       Diabetes     METFORMIN  2020-02-20   \n",
      "\n",
      "    Blood Pressure  Cholesterol               Email  Phone Number  \\\n",
      "0           140/90          200   name@hospital.org  555-555-5555   \n",
      "1           120/80          200                 NaN           NaN   \n",
      "2           110/70          160  contact@domain.com           NaN   \n",
      "3           110/70          180   name@hospital.org  555-555-5555   \n",
      "4           110/70          180                 NaN                 \n",
      "..             ...          ...                 ...           ...   \n",
      "995         110/70          180   name@hospital.org           NaN   \n",
      "996         130/85          160                 NaN  123-456-7890   \n",
      "997         110/70          180   name@hospital.org           NaN   \n",
      "998         110/70          200                 NaN                 \n",
      "999         120/80          220                 NaN  123-456-7890   \n",
      "\n",
      "     Systolic_BP  Systolic  Diastolic  \n",
      "0          140.0     140.0       90.0  \n",
      "1          120.0     120.0       80.0  \n",
      "2          110.0     110.0       70.0  \n",
      "3          110.0     110.0       70.0  \n",
      "4          110.0     110.0       70.0  \n",
      "..           ...       ...        ...  \n",
      "995        110.0     110.0       70.0  \n",
      "996        130.0     130.0       85.0  \n",
      "997        110.0     110.0       70.0  \n",
      "998        110.0     110.0       70.0  \n",
      "999        120.0     120.0       80.0  \n",
      "\n",
      "[1000 rows x 13 columns]\n"
     ]
    }
   ],
   "source": [
    "# Apply the function to the dataset\n",
    "df_healthcare_raw['Medication'] = df_healthcare_raw.apply(clean_medication, axis=1)\n",
    "\n",
    "# View the cleaned dataset\n",
    "print(df_healthcare_raw)"
   ]
  },
  {
   "cell_type": "code",
   "execution_count": 17,
   "id": "348030e7-108f-4fb1-966e-9c9f190fc36b",
   "metadata": {},
   "outputs": [],
   "source": [
    "# Ensuring both first and second names in the 'Patient Name' column start with a capital letter\n",
    "df_healthcare_raw['Patient Name'] = df_healthcare_raw['Patient Name'].str.title()"
   ]
  },
  {
   "cell_type": "code",
   "execution_count": 18,
   "id": "26f92abe-f7d6-465a-8a3a-b01809130da9",
   "metadata": {},
   "outputs": [
    {
     "name": "stdout",
     "output_type": "stream",
     "text": [
      "       Patient Name  Age  Gender      Condition    Medication  Visit Date  \\\n",
      "0         David Lee   25   Other  Heart Disease  ATORVASTATIN  2020-01-15   \n",
      "1       Emily Davis   40    Male       Diabetes     METFORMIN  2018-04-05   \n",
      "2    Laura Martinez   35   Other         Asthma     ALBUTEROL  2019-12-01   \n",
      "3    Michael Wilson   40    Male       Diabetes     METFORMIN  2020-01-15   \n",
      "4         David Lee   40  Female         Asthma     ALBUTEROL  2020-02-20   \n",
      "..              ...  ...     ...            ...           ...         ...   \n",
      "995      Mary Clark   70   Other         Asthma     ALBUTEROL  2019-03-25   \n",
      "996      Mary Clark   40   Other            NaN          NONE  2020-01-15   \n",
      "997  Laura Martinez   40   Other            NaN          NONE  2020-02-20   \n",
      "998      Jane Smith   25    Male            NaN          NONE  2018-04-05   \n",
      "999    James Taylor   40    Male       Diabetes     METFORMIN  2020-02-20   \n",
      "\n",
      "    Blood Pressure  Cholesterol               Email  Phone Number  \n",
      "0           140/90          200   name@hospital.org  555-555-5555  \n",
      "1           120/80          200                 NaN           NaN  \n",
      "2           110/70          160  contact@domain.com           NaN  \n",
      "3           110/70          180   name@hospital.org  555-555-5555  \n",
      "4           110/70          180                 NaN                \n",
      "..             ...          ...                 ...           ...  \n",
      "995         110/70          180   name@hospital.org           NaN  \n",
      "996         130/85          160                 NaN  123-456-7890  \n",
      "997         110/70          180   name@hospital.org           NaN  \n",
      "998         110/70          200                 NaN                \n",
      "999         120/80          220                 NaN  123-456-7890  \n",
      "\n",
      "[1000 rows x 10 columns]\n"
     ]
    }
   ],
   "source": [
    "# Remove the unnecessary columns\n",
    "df_healthcare_raw = df_healthcare_raw.drop(columns=['Systolic_BP', 'Systolic', 'Diastolic'])\n",
    "\n",
    "# View the updated dataset changes made\n",
    "print(df_healthcare_raw)"
   ]
  },
  {
   "cell_type": "code",
   "execution_count": 19,
   "id": "d7e4c7e0-9433-4215-ac17-fd384868eb50",
   "metadata": {},
   "outputs": [],
   "source": [
    "# Apply title case to the 'Medication' column\n",
    "df_healthcare_raw['Medication'] = df_healthcare_raw['Medication'].str.title()"
   ]
  },
  {
   "cell_type": "code",
   "execution_count": 20,
   "id": "54b0f05f-3334-44ea-a2be-d2f81ef303ab",
   "metadata": {},
   "outputs": [
    {
     "name": "stdout",
     "output_type": "stream",
     "text": [
      "       Patient Name  Age  Gender      Condition    Medication  Visit Date  \\\n",
      "0         David Lee   25   Other  Heart Disease  Atorvastatin  2020-01-15   \n",
      "1       Emily Davis   40    Male       Diabetes     Metformin  2018-04-05   \n",
      "2    Laura Martinez   35   Other         Asthma     Albuterol  2019-12-01   \n",
      "3    Michael Wilson   40    Male       Diabetes     Metformin  2020-01-15   \n",
      "4         David Lee   40  Female         Asthma     Albuterol  2020-02-20   \n",
      "..              ...  ...     ...            ...           ...         ...   \n",
      "995      Mary Clark   70   Other         Asthma     Albuterol  2019-03-25   \n",
      "996      Mary Clark   40   Other            NaN          None  2020-01-15   \n",
      "997  Laura Martinez   40   Other            NaN          None  2020-02-20   \n",
      "998      Jane Smith   25    Male            NaN          None  2018-04-05   \n",
      "999    James Taylor   40    Male       Diabetes     Metformin  2020-02-20   \n",
      "\n",
      "    Blood Pressure  Cholesterol               Email  Phone Number  \n",
      "0           140/90          200   name@hospital.org  555-555-5555  \n",
      "1           120/80          200                 NaN           NaN  \n",
      "2           110/70          160  contact@domain.com           NaN  \n",
      "3           110/70          180   name@hospital.org  555-555-5555  \n",
      "4           110/70          180                 NaN                \n",
      "..             ...          ...                 ...           ...  \n",
      "995         110/70          180   name@hospital.org           NaN  \n",
      "996         130/85          160                 NaN  123-456-7890  \n",
      "997         110/70          180   name@hospital.org           NaN  \n",
      "998         110/70          200                 NaN                \n",
      "999         120/80          220                 NaN  123-456-7890  \n",
      "\n",
      "[1000 rows x 10 columns]\n"
     ]
    }
   ],
   "source": [
    "print(df_healthcare_raw)"
   ]
  },
  {
   "cell_type": "code",
   "execution_count": 21,
   "id": "4327e991-c3a0-4e2a-bf41-0e90ee9494ab",
   "metadata": {},
   "outputs": [],
   "source": [
    "df_healthcare_raw.to_csv('cleaned_healthcare_data.csv', index=False)"
   ]
  },
  {
   "cell_type": "code",
   "execution_count": null,
   "id": "76e95c16-3a91-42c7-8b4e-b48df0fb02ce",
   "metadata": {},
   "outputs": [],
   "source": []
  }
 ],
 "metadata": {
  "kernelspec": {
   "display_name": "Python 3 (ipykernel)",
   "language": "python",
   "name": "python3"
  },
  "language_info": {
   "codemirror_mode": {
    "name": "ipython",
    "version": 3
   },
   "file_extension": ".py",
   "mimetype": "text/x-python",
   "name": "python",
   "nbconvert_exporter": "python",
   "pygments_lexer": "ipython3",
   "version": "3.11.8"
  }
 },
 "nbformat": 4,
 "nbformat_minor": 5
}
